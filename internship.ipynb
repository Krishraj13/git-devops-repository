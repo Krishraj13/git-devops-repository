{
  "nbformat": 4,
  "nbformat_minor": 0,
  "metadata": {
    "colab": {
      "provenance": [],
      "authorship_tag": "ABX9TyPRkLbUKnsCL90zbGwy6dwR",
      "include_colab_link": true
    },
    "kernelspec": {
      "name": "python3",
      "display_name": "Python 3"
    },
    "language_info": {
      "name": "python"
    }
  },
  "cells": [
    {
      "cell_type": "markdown",
      "metadata": {
        "id": "view-in-github",
        "colab_type": "text"
      },
      "source": [
        "<a href=\"https://colab.research.google.com/github/Krishraj13/git-devops-repository/blob/master/internship.ipynb\" target=\"_parent\"><img src=\"https://colab.research.google.com/assets/colab-badge.svg\" alt=\"Open In Colab\"/></a>"
      ]
    },
    {
      "cell_type": "code",
      "source": [
        "from sklearn.linear_model import LinearRegression\n",
        "from sklearn.multioutput import MultiOutputRegressor\n",
        "from sklearn.model_selection import train_test_split\n",
        "import pandas as pd\n",
        "df = pd.read_csv(\"prediction.csv\")\n",
        "df['building_type'] = df['building_type'].astype('category').cat.codes\n",
        "df['daily_wage_per_worker'] = df['daily_wage_per_worker'].replace('[\\$,]', '', regex=True).astype(float)\n",
        "df['total_daily_wage'] = df['total_daily_wage'].replace('[\\$,]', '', regex=True).astype(float)\n",
        "x = df[['building_type','sft','floors','houses_per_floor','rooms_per_house','office_floor']]\n",
        "y = df[['bricks','cement_bags','sand_tons','steel_tons','workers_required','total_daily_wage']]\n",
        "x_train, x_test, y_train, y_test = train_test_split(x, y, test_size=0.2, random_state=42)\n",
        "base_model = LinearRegression()\n",
        "multi_output_model = MultiOutputRegressor(base_model)\n",
        "multi_output_model.fit(x_train, y_train)\n",
        "print(\"Names of the building types we use are:\\n0: apartment\\n1: apartment_with_office_floor\\n2: independent_house\\n3: office_building\")\n",
        "building_type = int(input(\"Enter the building type (0-3): \"))\n",
        "sft = int(input(\"Enter the sft (100-10000): \"))\n",
        "floors = int(input(\"Enter the number of floors: \"))\n",
        "houses_per_floor = int(input(\"Enter number of houses per floor(0 if it is independent house): \"))\n",
        "rooms_per_house = int(input(\"Enter number of rooms per house: \"))\n",
        "office_floor = int(input(\"Enter number of office floors (0 or 1): \"))\n",
        "features = pd.DataFrame([[building_type, sft, floors, houses_per_floor, rooms_per_house, office_floor]],\n",
        "                        columns=['building_type','sft','floors','houses_per_floor','rooms_per_house','office_floor'])\n",
        "prediction = multi_output_model.predict(features)\n",
        "output_labels = ['bricks', 'cement_bags', 'sand_tons', 'steel_tons', 'workers_required', 'total_daily_wage']\n",
        "print(\"\\n Predicted Construction Requirements:\")\n",
        "for label, value in zip(output_labels, prediction[0]):\n",
        "    print(f\"{label}: {round(value, 0)}\")\n"
      ],
      "metadata": {
        "colab": {
          "base_uri": "https://localhost:8080/"
        },
        "id": "bsrSaOFLr_JB",
        "outputId": "2baa62e4-7b50-40d0-c3b5-a7e8d01fbbca"
      },
      "execution_count": 8,
      "outputs": [
        {
          "output_type": "stream",
          "name": "stdout",
          "text": [
            "Names of the building types we use are:\n",
            "0: apartment\n",
            "1: apartment_with_office_floor\n",
            "2: independent_house\n",
            "3: office_building\n",
            "Enter the building type (0-3): 0\n",
            "Enter the sft (100-10000): 870\n",
            "Enter the number of floors: 3\n",
            "Enter number of houses per floor: 1\n",
            "Enter number of rooms per house: 2\n",
            "Enter number of office floors (0 or 1): 1\n",
            "\n",
            " Predicted Construction Requirements:\n",
            "bricks: 6090.0\n",
            "cement_bags: 13.0\n",
            "sand_tons: 10.0\n",
            "steel_tons: 2.0\n",
            "workers_required: 3.0\n",
            "total_daily_wage: 1345.0\n"
          ]
        }
      ]
    }
  ]
}